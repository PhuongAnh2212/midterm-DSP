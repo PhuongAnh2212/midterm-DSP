{
  "nbformat": 4,
  "nbformat_minor": 0,
  "metadata": {
    "colab": {
      "provenance": [],
      "gpuType": "T4",
      "mount_file_id": "1530eseT7cJ8c-Y1-kvvG8YArdab0dkDT",
      "authorship_tag": "ABX9TyP3huKK3XenWSPlT7btBQBO",
      "include_colab_link": true
    },
    "kernelspec": {
      "name": "python3",
      "display_name": "Python 3"
    },
    "language_info": {
      "name": "python"
    },
    "accelerator": "GPU"
  },
  "cells": [
    {
      "cell_type": "markdown",
      "metadata": {
        "id": "view-in-github",
        "colab_type": "text"
      },
      "source": [
        "<a href=\"https://colab.research.google.com/github/PhuongAnh2212/midterm-DSP/blob/main/SER_SVM_Model.ipynb\" target=\"_parent\"><img src=\"https://colab.research.google.com/assets/colab-badge.svg\" alt=\"Open In Colab\"/></a>"
      ]
    },
    {
      "cell_type": "code",
      "source": [
        "!pip install librosa scikit-learn numpy"
      ],
      "metadata": {
        "colab": {
          "base_uri": "https://localhost:8080/"
        },
        "collapsed": true,
        "id": "iC8PQ52NodQh",
        "outputId": "f7c9aa74-d595-4e2b-c8d0-92bbd838fdf2"
      },
      "execution_count": 2,
      "outputs": [
        {
          "output_type": "stream",
          "name": "stdout",
          "text": [
            "Requirement already satisfied: librosa in /usr/local/lib/python3.10/dist-packages (0.10.2.post1)\n",
            "Requirement already satisfied: scikit-learn in /usr/local/lib/python3.10/dist-packages (1.5.2)\n",
            "Requirement already satisfied: numpy in /usr/local/lib/python3.10/dist-packages (1.26.4)\n",
            "Requirement already satisfied: audioread>=2.1.9 in /usr/local/lib/python3.10/dist-packages (from librosa) (3.0.1)\n",
            "Requirement already satisfied: scipy>=1.2.0 in /usr/local/lib/python3.10/dist-packages (from librosa) (1.13.1)\n",
            "Requirement already satisfied: joblib>=0.14 in /usr/local/lib/python3.10/dist-packages (from librosa) (1.4.2)\n",
            "Requirement already satisfied: decorator>=4.3.0 in /usr/local/lib/python3.10/dist-packages (from librosa) (4.4.2)\n",
            "Requirement already satisfied: numba>=0.51.0 in /usr/local/lib/python3.10/dist-packages (from librosa) (0.60.0)\n",
            "Requirement already satisfied: soundfile>=0.12.1 in /usr/local/lib/python3.10/dist-packages (from librosa) (0.12.1)\n",
            "Requirement already satisfied: pooch>=1.1 in /usr/local/lib/python3.10/dist-packages (from librosa) (1.8.2)\n",
            "Requirement already satisfied: soxr>=0.3.2 in /usr/local/lib/python3.10/dist-packages (from librosa) (0.5.0.post1)\n",
            "Requirement already satisfied: typing-extensions>=4.1.1 in /usr/local/lib/python3.10/dist-packages (from librosa) (4.12.2)\n",
            "Requirement already satisfied: lazy-loader>=0.1 in /usr/local/lib/python3.10/dist-packages (from librosa) (0.4)\n",
            "Requirement already satisfied: msgpack>=1.0 in /usr/local/lib/python3.10/dist-packages (from librosa) (1.1.0)\n",
            "Requirement already satisfied: threadpoolctl>=3.1.0 in /usr/local/lib/python3.10/dist-packages (from scikit-learn) (3.5.0)\n",
            "Requirement already satisfied: packaging in /usr/local/lib/python3.10/dist-packages (from lazy-loader>=0.1->librosa) (24.1)\n",
            "Requirement already satisfied: llvmlite<0.44,>=0.43.0dev0 in /usr/local/lib/python3.10/dist-packages (from numba>=0.51.0->librosa) (0.43.0)\n",
            "Requirement already satisfied: platformdirs>=2.5.0 in /usr/local/lib/python3.10/dist-packages (from pooch>=1.1->librosa) (4.3.6)\n",
            "Requirement already satisfied: requests>=2.19.0 in /usr/local/lib/python3.10/dist-packages (from pooch>=1.1->librosa) (2.32.3)\n",
            "Requirement already satisfied: cffi>=1.0 in /usr/local/lib/python3.10/dist-packages (from soundfile>=0.12.1->librosa) (1.17.1)\n",
            "Requirement already satisfied: pycparser in /usr/local/lib/python3.10/dist-packages (from cffi>=1.0->soundfile>=0.12.1->librosa) (2.22)\n",
            "Requirement already satisfied: charset-normalizer<4,>=2 in /usr/local/lib/python3.10/dist-packages (from requests>=2.19.0->pooch>=1.1->librosa) (3.4.0)\n",
            "Requirement already satisfied: idna<4,>=2.5 in /usr/local/lib/python3.10/dist-packages (from requests>=2.19.0->pooch>=1.1->librosa) (3.10)\n",
            "Requirement already satisfied: urllib3<3,>=1.21.1 in /usr/local/lib/python3.10/dist-packages (from requests>=2.19.0->pooch>=1.1->librosa) (2.2.3)\n",
            "Requirement already satisfied: certifi>=2017.4.17 in /usr/local/lib/python3.10/dist-packages (from requests>=2.19.0->pooch>=1.1->librosa) (2024.8.30)\n"
          ]
        }
      ]
    },
    {
      "cell_type": "code",
      "source": [
        "import numpy as np  # linear algebra\n",
        "import pandas as pd  # data processing, CSV file I/O (e.g. pd.read_csav)\n",
        "\n",
        "import librosa\n",
        "import librosa.display\n",
        "import seaborn as sns\n",
        "import matplotlib.pyplot as plt\n",
        "\n",
        "from IPython.display import Audio\n",
        "from sklearn.model_selection import train_test_split\n",
        "from sklearn.svm import SVC\n",
        "from sklearn.metrics import classification_report, confusion_matrix, accuracy_score\n",
        "\n",
        "from sklearn.preprocessing import MinMaxScaler, OneHotEncoder\n",
        "from keras.models import Sequential\n",
        "from keras.layers import Dense, LSTM, Dropout\n",
        "\n",
        "import os\n",
        "\n",
        "# Initialize the DataFrame\n",
        "Ravdess = pd.DataFrame({\n",
        "    'emotions': [],\n",
        "    'path': []\n",
        "})\n",
        "\n",
        "scaler = MinMaxScaler(feature_range=(0, 1))\n",
        "\n",
        "Ravdess_dir = \"/content/drive/MyDrive/SpeechActors01-24\"\n",
        "for dir in os.listdir(Ravdess_dir):\n",
        "    # Construct full path to the directory\n",
        "    dir_path = os.path.join(Ravdess_dir, dir)\n",
        "    # Ensure it's a directory\n",
        "    if os.path.isdir(dir_path):\n",
        "        for file in os.listdir(dir_path):\n",
        "            # Check for valid audio file extensions\n",
        "            if file.endswith(('.wav', '.mp3')):  # Add any other audio formats you expect\n",
        "                audio_path = os.path.join(dir_path, file)\n",
        "                id_arr = file.split('-')\n",
        "                emo_id = id_arr[2]\n",
        "                if emo_id == '01':\n",
        "                    emo = 'neutral'\n",
        "                elif emo_id == '02':\n",
        "                    emo = 'calm'\n",
        "                elif emo_id == '03':\n",
        "                    emo = 'happy'\n",
        "                elif emo_id == '04':\n",
        "                    emo = 'sad'\n",
        "                elif emo_id == '05':\n",
        "                    emo = 'angry'\n",
        "                elif emo_id == '06':\n",
        "                    emo = 'fearful'\n",
        "                elif emo_id == '07':\n",
        "                    emo = 'disgust'\n",
        "                else:\n",
        "                    emo = 'surprised'\n",
        "                new_data = pd.DataFrame({'emotions': [emo], 'path': [audio_path]})\n",
        "                Ravdess = pd.concat([Ravdess, new_data], ignore_index=True)\n",
        "\n",
        "Ravdess['emotions'] = pd.Categorical(Ravdess['emotions'])\n",
        "print(Ravdess)\n"
      ],
      "metadata": {
        "colab": {
          "base_uri": "https://localhost:8080/"
        },
        "id": "1BqqAIrRoxhL",
        "outputId": "6084826d-b0a1-4ce9-fa96-da03fffbc783"
      },
      "execution_count": 3,
      "outputs": [
        {
          "output_type": "stream",
          "name": "stdout",
          "text": [
            "       emotions                                               path\n",
            "0       neutral  /content/drive/MyDrive/SpeechActors01-24/Actor...\n",
            "1       neutral  /content/drive/MyDrive/SpeechActors01-24/Actor...\n",
            "2       neutral  /content/drive/MyDrive/SpeechActors01-24/Actor...\n",
            "3          calm  /content/drive/MyDrive/SpeechActors01-24/Actor...\n",
            "4         happy  /content/drive/MyDrive/SpeechActors01-24/Actor...\n",
            "...         ...                                                ...\n",
            "1447  surprised  /content/drive/MyDrive/SpeechActors01-24/Actor...\n",
            "1448  surprised  /content/drive/MyDrive/SpeechActors01-24/Actor...\n",
            "1449  surprised  /content/drive/MyDrive/SpeechActors01-24/Actor...\n",
            "1450  surprised  /content/drive/MyDrive/SpeechActors01-24/Actor...\n",
            "1451  surprised  /content/drive/MyDrive/SpeechActors01-24/Actor...\n",
            "\n",
            "[1452 rows x 2 columns]\n"
          ]
        }
      ]
    },
    {
      "cell_type": "code",
      "source": [
        "Ravdess['emotions'].value_counts()"
      ],
      "metadata": {
        "colab": {
          "base_uri": "https://localhost:8080/",
          "height": 366
        },
        "id": "ZIkr3GkJyvt_",
        "outputId": "80a42b33-c9a1-4e39-a397-8a4200de89e6"
      },
      "execution_count": 4,
      "outputs": [
        {
          "output_type": "execute_result",
          "data": {
            "text/plain": [
              "emotions\n",
              "angry        195\n",
              "fearful      195\n",
              "calm         194\n",
              "disgust      193\n",
              "happy        193\n",
              "sad          193\n",
              "surprised    192\n",
              "neutral       97\n",
              "Name: count, dtype: int64"
            ],
            "text/html": [
              "<div>\n",
              "<style scoped>\n",
              "    .dataframe tbody tr th:only-of-type {\n",
              "        vertical-align: middle;\n",
              "    }\n",
              "\n",
              "    .dataframe tbody tr th {\n",
              "        vertical-align: top;\n",
              "    }\n",
              "\n",
              "    .dataframe thead th {\n",
              "        text-align: right;\n",
              "    }\n",
              "</style>\n",
              "<table border=\"1\" class=\"dataframe\">\n",
              "  <thead>\n",
              "    <tr style=\"text-align: right;\">\n",
              "      <th></th>\n",
              "      <th>count</th>\n",
              "    </tr>\n",
              "    <tr>\n",
              "      <th>emotions</th>\n",
              "      <th></th>\n",
              "    </tr>\n",
              "  </thead>\n",
              "  <tbody>\n",
              "    <tr>\n",
              "      <th>angry</th>\n",
              "      <td>195</td>\n",
              "    </tr>\n",
              "    <tr>\n",
              "      <th>fearful</th>\n",
              "      <td>195</td>\n",
              "    </tr>\n",
              "    <tr>\n",
              "      <th>calm</th>\n",
              "      <td>194</td>\n",
              "    </tr>\n",
              "    <tr>\n",
              "      <th>disgust</th>\n",
              "      <td>193</td>\n",
              "    </tr>\n",
              "    <tr>\n",
              "      <th>happy</th>\n",
              "      <td>193</td>\n",
              "    </tr>\n",
              "    <tr>\n",
              "      <th>sad</th>\n",
              "      <td>193</td>\n",
              "    </tr>\n",
              "    <tr>\n",
              "      <th>surprised</th>\n",
              "      <td>192</td>\n",
              "    </tr>\n",
              "    <tr>\n",
              "      <th>neutral</th>\n",
              "      <td>97</td>\n",
              "    </tr>\n",
              "  </tbody>\n",
              "</table>\n",
              "</div><br><label><b>dtype:</b> int64</label>"
            ]
          },
          "metadata": {},
          "execution_count": 4
        }
      ]
    },
    {
      "cell_type": "code",
      "source": [
        "plt.title('Count of Emotions', size=16)\n",
        "sns.countplot(data=Ravdess, x='emotions')\n",
        "plt.ylabel('Count', size=12)\n",
        "plt.xlabel('Emotions', size=12)\n",
        "sns.despine(top=True, right=True, left=False, bottom=False)\n",
        "plt.show()"
      ],
      "metadata": {
        "colab": {
          "base_uri": "https://localhost:8080/",
          "height": 478
        },
        "id": "ilkZzDyazFvy",
        "outputId": "53fb2580-6a32-4045-aa90-b0f3a39a0dc8"
      },
      "execution_count": 5,
      "outputs": [
        {
          "output_type": "display_data",
          "data": {
            "text/plain": [
              "<Figure size 640x480 with 1 Axes>"
            ],
            "image/png": "[encoded data removed]"
          },
          "metadata": {}
        }
      ]
    },
    {
      "cell_type": "code",
      "source": [
        "def create_wave_plot (data_path, emo):\n",
        "    audio, sr = librosa.load(data_path)\n",
        "    plt.figure(figsize=(10,3))\n",
        "    plt.title(f'Waveplot for audio with {emo} emotion', size=16)\n",
        "    librosa.display.waveshow(audio, sr=sr)\n",
        "    plt.show()\n",
        "\n",
        "def show_melspectrogram (data_path, emo):\n",
        "    S_db, sr = create_melspectrogram (data_path)\n",
        "    plt.figure(figsize=(10, 4))\n",
        "    librosa.display.specshow(S_db, y_axis='mel', x_axis='time', sr=sr)\n",
        "    plt.colorbar(format='%+2.0f dB')\n",
        "    plt.title(f'Spectrogram for audio with {emo} emotion')\n",
        "    plt.tight_layout()\n",
        "    plt.show()\n",
        "\n",
        "def create_melspectrogram (data_path):\n",
        "    audio, sr = librosa.load(data_path, sr=22050)\n",
        "    n_frames = int(sr*1.2)\n",
        "    start_frame = int(len(audio) // 2 - n_frames // 2)\n",
        "    end_frame = start_frame + n_frames\n",
        "    audio_cut = audio[start_frame:end_frame]\n",
        "    S = librosa.feature.melspectrogram(y=audio_cut, sr=sr, n_mels=128, n_fft=1024, hop_length=512)\n",
        "    S_db =librosa.power_to_db(S, ref=np.min)\n",
        "    return S_db, sr\n",
        "\n",
        "def create_mfcc (audio, sr):\n",
        "    n_frames = int(sr*1.2)\n",
        "    start_frame = int(len(audio) // 2 - n_frames // 2)\n",
        "    end_frame = start_frame + n_frames\n",
        "    audio_cut = audio[start_frame:end_frame]\n",
        "    feature = np.mean(librosa.feature.mfcc(y=audio_cut,sr=sr,n_mfcc=40).T,axis=0)\n",
        "    return feature\n",
        "\n",
        "def create_origin_mfcc (data_path):\n",
        "    S, sr = librosa.load(data_path)\n",
        "    feature = create_mfcc(S,sr)\n",
        "    return feature\n",
        "\n",
        "def create_noise_mfcc (data_path):\n",
        "    S, sr = librosa.load(data_path)\n",
        "    noise_amp = 0.035*np.random.uniform()*np.amax(S)\n",
        "    S = S + noise_amp*np.random.normal(size=S.shape[0])\n",
        "    feature = create_mfcc(S,sr)\n",
        "    return feature\n",
        "\n",
        "def create_pitch_mfcc (data_path):\n",
        "    S, sr = librosa.load(data_path)\n",
        "    S = librosa.effects.pitch_shift(y=S, sr=sr, n_steps=0.7)\n",
        "    feature = create_mfcc(S,sr)\n",
        "    return feature\n",
        "\n",
        "def create_stretch_mfcc (data_path):\n",
        "    S, sr = librosa.load(data_path)\n",
        "    S = librosa.effects.time_stretch(y=S, rate=0.85)\n",
        "    feature = create_mfcc(S,sr)\n",
        "    return feature"
      ],
      "metadata": {
        "id": "uqRa7IBb3jM4"
      },
      "execution_count": 6,
      "outputs": []
    },
    {
      "cell_type": "code",
      "source": [
        "path_happy = np.array(Ravdess.path[Ravdess.emotions=='happy'])[1]\n",
        "S, sr = librosa.load(path_happy)\n",
        "plt.figure(figsize=(10,3))\n",
        "librosa.display.waveshow(S, sr=sr)\n",
        "plt.show()"
      ],
      "metadata": {
        "colab": {
          "base_uri": "https://localhost:8080/",
          "height": 311
        },
        "id": "pDKCsukk3sNQ",
        "outputId": "19abec66-6ebe-494b-e09c-404095a7757e"
      },
      "execution_count": 7,
      "outputs": [
        {
          "output_type": "display_data",
          "data": {
            "text/plain": [
              "<Figure size 1000x300 with 1 Axes>"
            ],
            "image/png": "[encoded data removed]"
          },
          "metadata": {}
        }
      ]
    },
    {
      "cell_type": "code",
      "source": [
        "path_happy = np.array(Ravdess.path[Ravdess.emotions=='happy'])[1]\n",
        "create_wave_plot(path_happy, 'happy')\n",
        "show_melspectrogram(path_happy, 'happy')"
      ],
      "metadata": {
        "colab": {
          "base_uri": "https://localhost:8080/",
          "height": 725
        },
        "id": "vc_B6z9Z388k",
        "outputId": "c91dda60-c02c-4f50-ad3b-dc2f84a20396"
      },
      "execution_count": 8,
      "outputs": [
        {
          "output_type": "display_data",
          "data": {
            "text/plain": [
              "<Figure size 1000x300 with 1 Axes>"
            ],
            "image/png": "[encoded data removed]"
          },
          "metadata": {}
        },
        {
          "output_type": "display_data",
          "data": {
            "text/plain": [
              "<Figure size 1000x400 with 2 Axes>"
            ],
            "image/png": "[encoded data removed]"
          },
          "metadata": {}
        }
      ]
    },
    {
      "cell_type": "code",
      "source": [
        "origin = Ravdess['path'].apply(lambda x: create_origin_mfcc(x))\n",
        "noise = Ravdess['path'].apply(lambda x: create_noise_mfcc(x))\n",
        "pitch = Ravdess['path'].apply(lambda x: create_pitch_mfcc(x))\n",
        "stretch = Ravdess['path'].apply(lambda x: create_stretch_mfcc(x))\n",
        "\n",
        "# Optional: Convert to DataFrame for better handling\n",
        "origin_df = pd.DataFrame(origin.tolist(), columns=[f'origin_mfcc_{i+1}' for i in range(40)])\n",
        "noise_df = pd.DataFrame(noise.tolist(), columns=[f'noise_mfcc_{i+1}' for i in range(40)])\n",
        "pitch_df = pd.DataFrame(pitch.tolist(), columns=[f'pitch_mfcc_{i+1}' for i in range(40)])\n",
        "stretch_df = pd.DataFrame(stretch.tolist(), columns=[f'stretch_mfcc_{i+1}' for i in range(40)])\n",
        "\n",
        "# Combine the features with the original DataFrame\n",
        "Ravdess_features = pd.concat([Ravdess, origin_df, noise_df, pitch_df, stretch_df], axis=1)\n",
        "\n",
        "# Display the combined DataFrame with features\n",
        "Ravdess_features.head()"
      ],
      "metadata": {
        "colab": {
          "base_uri": "https://localhost:8080/",
          "height": 342
        },
        "id": "OqNU8D6Y4kaU",
        "outputId": "3c2a6d28-cafd-4d1d-f352-5452d5c316a1"
      },
      "execution_count": 9,
      "outputs": [
        {
          "output_type": "execute_result",
          "data": {
            "text/plain": [
              "  emotions                                               path  origin_mfcc_1  \\\n",
              "0  neutral  /content/drive/MyDrive/SpeechActors01-24/Actor...    -473.526428   \n",
              "1  neutral  /content/drive/MyDrive/SpeechActors01-24/Actor...    -473.526428   \n",
              "2  neutral  /content/drive/MyDrive/SpeechActors01-24/Actor...    -451.727478   \n",
              "3     calm  /content/drive/MyDrive/SpeechActors01-24/Actor...    -674.753479   \n",
              "4    happy  /content/drive/MyDrive/SpeechActors01-24/Actor...    -394.908417   \n",
              "\n",
              "   origin_mfcc_2  origin_mfcc_3  origin_mfcc_4  origin_mfcc_5  origin_mfcc_6  \\\n",
              "0     109.752647     -16.185368      10.694670      14.013962     -11.245950   \n",
              "1     109.752647     -16.185368      10.694670      14.013962     -11.245950   \n",
              "2     109.762779     -22.111015      14.244523      24.376575     -16.458254   \n",
              "3      72.343399       4.330179      18.644970      19.647106      -0.767206   \n",
              "4      99.857597     -26.136364       7.415769       8.163462     -20.965498   \n",
              "\n",
              "   origin_mfcc_7  origin_mfcc_8  ...  stretch_mfcc_31  stretch_mfcc_32  \\\n",
              "0      -7.788402      -7.281178  ...        -7.376739        -1.351522   \n",
              "1      -7.788402      -7.281178  ...        -7.376739        -1.351522   \n",
              "2      -0.636611      -7.930946  ...        -5.867043        -2.384844   \n",
              "3      -2.321302      -4.963667  ...        -2.005424        -2.655753   \n",
              "4     -16.137737     -17.567383  ...         6.085320         7.738131   \n",
              "\n",
              "   stretch_mfcc_33  stretch_mfcc_34  stretch_mfcc_35  stretch_mfcc_36  \\\n",
              "0        -8.723264        -4.798397        -7.610008        -2.366807   \n",
              "1        -8.723264        -4.798397        -7.610008        -2.366807   \n",
              "2        -6.235919        -2.838249        -6.287262        -3.332661   \n",
              "3        -5.107260        -3.704699        -5.713516        -0.599648   \n",
              "4         3.466858         1.111846        -1.674803        -1.353887   \n",
              "\n",
              "   stretch_mfcc_37  stretch_mfcc_38  stretch_mfcc_39  stretch_mfcc_40  \n",
              "0        -5.027410        -2.370217        -5.484387         3.633733  \n",
              "1        -5.027410        -2.370217        -5.484387         3.633733  \n",
              "2        -7.146607        -3.392708        -3.010031         5.730288  \n",
              "3        -2.047251        -2.050277        -3.630093        -1.844869  \n",
              "4         2.863121         6.861430         3.670645        10.367949  \n",
              "\n",
              "[5 rows x 162 columns]"
            ],
            "text/html": [
              "\n",
              "  <div id=\"df-ad33e03b-82fc-4a0c-8bfa-715ad9fb4fe5\" class=\"colab-df-container\">\n",
              "    <div>\n",
              "<style scoped>\n",
              "    .dataframe tbody tr th:only-of-type {\n",
              "        vertical-align: middle;\n",
              "    }\n",
              "\n",
              "    .dataframe tbody tr th {\n",
              "        vertical-align: top;\n",
              "    }\n",
              "\n",
              "    .dataframe thead th {\n",
              "        text-align: right;\n",
              "    }\n",
              "</style>\n",
              "<table border=\"1\" class=\"dataframe\">\n",
              "  <thead>\n",
              "    <tr style=\"text-align: right;\">\n",
              "      <th></th>\n",
              "      <th>emotions</th>\n",
              "      <th>path</th>\n",
              "      <th>origin_mfcc_1</th>\n",
              "      <th>origin_mfcc_2</th>\n",
              "      <th>origin_mfcc_3</th>\n",
              "      <th>origin_mfcc_4</th>\n",
              "      <th>origin_mfcc_5</th>\n",
              "      <th>origin_mfcc_6</th>\n",
              "      <th>origin_mfcc_7</th>\n",
              "      <th>origin_mfcc_8</th>\n",
              "      <th>...</th>\n",
              "      <th>stretch_mfcc_31</th>\n",
              "      <th>stretch_mfcc_32</th>\n",
              "      <th>stretch_mfcc_33</th>\n",
              "      <th>stretch_mfcc_34</th>\n",
              "      <th>stretch_mfcc_35</th>\n",
              "      <th>stretch_mfcc_36</th>\n",
              "      <th>stretch_mfcc_37</th>\n",
              "      <th>stretch_mfcc_38</th>\n",
              "      <th>stretch_mfcc_39</th>\n",
              "      <th>stretch_mfcc_40</th>\n",
              "    </tr>\n",
              "  </thead>\n",
              "  <tbody>\n",
              "    <tr>\n",
              "      <th>0</th>\n",
              "      <td>neutral</td>\n",
              "      <td>/content/drive/MyDrive/SpeechActors01-24/Actor...</td>\n",
              "      <td>-473.526428</td>\n",
              "      <td>109.752647</td>\n",
              "      <td>-16.185368</td>\n",
              "      <td>10.694670</td>\n",
              "      <td>14.013962</td>\n",
              "      <td>-11.245950</td>\n",
              "      <td>-7.788402</td>\n",
              "      <td>-7.281178</td>\n",
              "      <td>...</td>\n",
              "      <td>-7.376739</td>\n",
              "      <td>-1.351522</td>\n",
              "      <td>-8.723264</td>\n",
              "      <td>-4.798397</td>\n",
              "      <td>-7.610008</td>\n",
              "      <td>-2.366807</td>\n",
              "      <td>-5.027410</td>\n",
              "      <td>-2.370217</td>\n",
              "      <td>-5.484387</td>\n",
              "      <td>3.633733</td>\n",
              "    </tr>\n",
              "    <tr>\n",
              "      <th>1</th>\n",
              "      <td>neutral</td>\n",
              "      <td>/content/drive/MyDrive/SpeechActors01-24/Actor...</td>\n",
              "      <td>-473.526428</td>\n",
              "      <td>109.752647</td>\n",
              "      <td>-16.185368</td>\n",
              "      <td>10.694670</td>\n",
              "      <td>14.013962</td>\n",
              "      <td>-11.245950</td>\n",
              "      <td>-7.788402</td>\n",
              "      <td>-7.281178</td>\n",
              "      <td>...</td>\n",
              "      <td>-7.376739</td>\n",
              "      <td>-1.351522</td>\n",
              "      <td>-8.723264</td>\n",
              "      <td>-4.798397</td>\n",
              "      <td>-7.610008</td>\n",
              "      <td>-2.366807</td>\n",
              "      <td>-5.027410</td>\n",
              "      <td>-2.370217</td>\n",
              "      <td>-5.484387</td>\n",
              "      <td>3.633733</td>\n",
              "    </tr>\n",
              "    <tr>\n",
              "      <th>2</th>\n",
              "      <td>neutral</td>\n",
              "      <td>/content/drive/MyDrive/SpeechActors01-24/Actor...</td>\n",
              "      <td>-451.727478</td>\n",
              "      <td>109.762779</td>\n",
              "      <td>-22.111015</td>\n",
              "      <td>14.244523</td>\n",
              "      <td>24.376575</td>\n",
              "      <td>-16.458254</td>\n",
              "      <td>-0.636611</td>\n",
              "      <td>-7.930946</td>\n",
              "      <td>...</td>\n",
              "      <td>-5.867043</td>\n",
              "      <td>-2.384844</td>\n",
              "      <td>-6.235919</td>\n",
              "      <td>-2.838249</td>\n",
              "      <td>-6.287262</td>\n",
              "      <td>-3.332661</td>\n",
              "      <td>-7.146607</td>\n",
              "      <td>-3.392708</td>\n",
              "      <td>-3.010031</td>\n",
              "      <td>5.730288</td>\n",
              "    </tr>\n",
              "    <tr>\n",
              "      <th>3</th>\n",
              "      <td>calm</td>\n",
              "      <td>/content/drive/MyDrive/SpeechActors01-24/Actor...</td>\n",
              "      <td>-674.753479</td>\n",
              "      <td>72.343399</td>\n",
              "      <td>4.330179</td>\n",
              "      <td>18.644970</td>\n",
              "      <td>19.647106</td>\n",
              "      <td>-0.767206</td>\n",
              "      <td>-2.321302</td>\n",
              "      <td>-4.963667</td>\n",
              "      <td>...</td>\n",
              "      <td>-2.005424</td>\n",
              "      <td>-2.655753</td>\n",
              "      <td>-5.107260</td>\n",
              "      <td>-3.704699</td>\n",
              "      <td>-5.713516</td>\n",
              "      <td>-0.599648</td>\n",
              "      <td>-2.047251</td>\n",
              "      <td>-2.050277</td>\n",
              "      <td>-3.630093</td>\n",
              "      <td>-1.844869</td>\n",
              "    </tr>\n",
              "    <tr>\n",
              "      <th>4</th>\n",
              "      <td>happy</td>\n",
              "      <td>/content/drive/MyDrive/SpeechActors01-24/Actor...</td>\n",
              "      <td>-394.908417</td>\n",
              "      <td>99.857597</td>\n",
              "      <td>-26.136364</td>\n",
              "      <td>7.415769</td>\n",
              "      <td>8.163462</td>\n",
              "      <td>-20.965498</td>\n",
              "      <td>-16.137737</td>\n",
              "      <td>-17.567383</td>\n",
              "      <td>...</td>\n",
              "      <td>6.085320</td>\n",
              "      <td>7.738131</td>\n",
              "      <td>3.466858</td>\n",
              "      <td>1.111846</td>\n",
              "      <td>-1.674803</td>\n",
              "      <td>-1.353887</td>\n",
              "      <td>2.863121</td>\n",
              "      <td>6.861430</td>\n",
              "      <td>3.670645</td>\n",
              "      <td>10.367949</td>\n",
              "    </tr>\n",
              "  </tbody>\n",
              "</table>\n",
              "<p>5 rows × 162 columns</p>\n",
              "</div>\n",
              "    <div class=\"colab-df-buttons\">\n",
              "\n",
              "  <div class=\"colab-df-container\">\n",
              "    <button class=\"colab-df-convert\" onclick=\"convertToInteractive('df-ad33e03b-82fc-4a0c-8bfa-715ad9fb4fe5')\"\n",
              "            title=\"Convert this dataframe to an interactive table.\"\n",
              "            style=\"display:none;\">\n",
              "\n",
              "  <svg xmlns=\"http://www.w3.org/2000/svg\" height=\"24px\" viewBox=\"0 -960 960 960\">\n",
              "    <path d=\"M120-120v-720h720v720H120Zm60-500h600v-160H180v160Zm220 220h160v-160H400v160Zm0 220h160v-160H400v160ZM180-400h160v-160H180v160Zm440 0h160v-160H620v160ZM180-180h160v-160H180v160Zm440 0h160v-160H620v160Z\"/>\n",
              "  </svg>\n",
              "    </button>\n",
              "\n",
              "  <style>\n",
              "    .colab-df-container {\n",
              "      display:flex;\n",
              "      gap: 12px;\n",
              "    }\n",
              "\n",
              "    .colab-df-convert {\n",
              "      background-color: #E8F0FE;\n",
              "      border: none;\n",
              "      border-radius: 50%;\n",
              "      cursor: pointer;\n",
              "      display: none;\n",
              "      fill: #1967D2;\n",
              "      height: 32px;\n",
              "      padding: 0 0 0 0;\n",
              "      width: 32px;\n",
              "    }\n",
              "\n",
              "    .colab-df-convert:hover {\n",
              "      background-color: #E2EBFA;\n",
              "      box-shadow: 0px 1px 2px rgba(60, 64, 67, 0.3), 0px 1px 3px 1px rgba(60, 64, 67, 0.15);\n",
              "      fill: #174EA6;\n",
              "    }\n",
              "\n",
              "    .colab-df-buttons div {\n",
              "      margin-bottom: 4px;\n",
              "    }\n",
              "\n",
              "    [theme=dark] .colab-df-convert {\n",
              "      background-color: #3B4455;\n",
              "      fill: #D2E3FC;\n",
              "    }\n",
              "\n",
              "    [theme=dark] .colab-df-convert:hover {\n",
              "      background-color: #434B5C;\n",
              "      box-shadow: 0px 1px 3px 1px rgba(0, 0, 0, 0.15);\n",
              "      filter: drop-shadow(0px 1px 2px rgba(0, 0, 0, 0.3));\n",
              "      fill: #FFFFFF;\n",
              "    }\n",
              "  </style>\n",
              "\n",
              "    <script>\n",
              "      const buttonEl =\n",
              "        document.querySelector('#df-ad33e03b-82fc-4a0c-8bfa-715ad9fb4fe5 button.colab-df-convert');\n",
              "      buttonEl.style.display =\n",
              "        google.colab.kernel.accessAllowed ? 'block' : 'none';\n",
              "\n",
              "      async function convertToInteractive(key) {\n",
              "        const element = document.querySelector('#df-ad33e03b-82fc-4a0c-8bfa-715ad9fb4fe5');\n",
              "        const dataTable =\n",
              "          await google.colab.kernel.invokeFunction('convertToInteractive',\n",
              "                                                    [key], {});\n",
              "        if (!dataTable) return;\n",
              "\n",
              "        const docLinkHtml = 'Like what you see? Visit the ' +\n",
              "          '<a target=\"_blank\" href=https://colab.research.google.com/notebooks/data_table.ipynb>data table notebook</a>'\n",
              "          + ' to learn more about interactive tables.';\n",
              "        element.innerHTML = '';\n",
              "        dataTable['output_type'] = 'display_data';\n",
              "        await google.colab.output.renderOutput(dataTable, element);\n",
              "        const docLink = document.createElement('div');\n",
              "        docLink.innerHTML = docLinkHtml;\n",
              "        element.appendChild(docLink);\n",
              "      }\n",
              "    </script>\n",
              "  </div>\n",
              "\n",
              "\n",
              "<div id=\"df-359215b4-a5d6-4e1d-b553-fe2b786f4d75\">\n",
              "  <button class=\"colab-df-quickchart\" onclick=\"quickchart('df-359215b4-a5d6-4e1d-b553-fe2b786f4d75')\"\n",
              "            title=\"Suggest charts\"\n",
              "            style=\"display:none;\">\n",
              "\n",
              "<svg xmlns=\"http://www.w3.org/2000/svg\" height=\"24px\"viewBox=\"0 0 24 24\"\n",
              "     width=\"24px\">\n",
              "    <g>\n",
              "        <path d=\"M19 3H5c-1.1 0-2 .9-2 2v14c0 1.1.9 2 2 2h14c1.1 0 2-.9 2-2V5c0-1.1-.9-2-2-2zM9 17H7v-7h2v7zm4 0h-2V7h2v10zm4 0h-2v-4h2v4z\"/>\n",
              "    </g>\n",
              "</svg>\n",
              "  </button>\n",
              "\n",
              "<style>\n",
              "  .colab-df-quickchart {\n",
              "      --bg-color: #E8F0FE;\n",
              "      --fill-color: #1967D2;\n",
              "      --hover-bg-color: #E2EBFA;\n",
              "      --hover-fill-color: #174EA6;\n",
              "      --disabled-fill-color: #AAA;\n",
              "      --disabled-bg-color: #DDD;\n",
              "  }\n",
              "\n",
              "  [theme=dark] .colab-df-quickchart {\n",
              "      --bg-color: #3B4455;\n",
              "      --fill-color: #D2E3FC;\n",
              "      --hover-bg-color: #434B5C;\n",
              "      --hover-fill-color: #FFFFFF;\n",
              "      --disabled-bg-color: #3B4455;\n",
              "      --disabled-fill-color: #666;\n",
              "  }\n",
              "\n",
              "  .colab-df-quickchart {\n",
              "    background-color: var(--bg-color);\n",
              "    border: none;\n",
              "    border-radius: 50%;\n",
              "    cursor: pointer;\n",
              "    display: none;\n",
              "    fill: var(--fill-color);\n",
              "    height: 32px;\n",
              "    padding: 0;\n",
              "    width: 32px;\n",
              "  }\n",
              "\n",
              "  .colab-df-quickchart:hover {\n",
              "    background-color: var(--hover-bg-color);\n",
              "    box-shadow: 0 1px 2px rgba(60, 64, 67, 0.3), 0 1px 3px 1px rgba(60, 64, 67, 0.15);\n",
              "    fill: var(--button-hover-fill-color);\n",
              "  }\n",
              "\n",
              "  .colab-df-quickchart-complete:disabled,\n",
              "  .colab-df-quickchart-complete:disabled:hover {\n",
              "    background-color: var(--disabled-bg-color);\n",
              "    fill: var(--disabled-fill-color);\n",
              "    box-shadow: none;\n",
              "  }\n",
              "\n",
              "  .colab-df-spinner {\n",
              "    border: 2px solid var(--fill-color);\n",
              "    border-color: transparent;\n",
              "    border-bottom-color: var(--fill-color);\n",
              "    animation:\n",
              "      spin 1s steps(1) infinite;\n",
              "  }\n",
              "\n",
              "  @keyframes spin {\n",
              "    0% {\n",
              "      border-color: transparent;\n",
              "      border-bottom-color: var(--fill-color);\n",
              "      border-left-color: var(--fill-color);\n",
              "    }\n",
              "    20% {\n",
              "      border-color: transparent;\n",
              "      border-left-color: var(--fill-color);\n",
              "      border-top-color: var(--fill-color);\n",
              "    }\n",
              "    30% {\n",
              "      border-color: transparent;\n",
              "      border-left-color: var(--fill-color);\n",
              "      border-top-color: var(--fill-color);\n",
              "      border-right-color: var(--fill-color);\n",
              "    }\n",
              "    40% {\n",
              "      border-color: transparent;\n",
              "      border-right-color: var(--fill-color);\n",
              "      border-top-color: var(--fill-color);\n",
              "    }\n",
              "    60% {\n",
              "      border-color: transparent;\n",
              "      border-right-color: var(--fill-color);\n",
              "    }\n",
              "    80% {\n",
              "      border-color: transparent;\n",
              "      border-right-color: var(--fill-color);\n",
              "      border-bottom-color: var(--fill-color);\n",
              "    }\n",
              "    90% {\n",
              "      border-color: transparent;\n",
              "      border-bottom-color: var(--fill-color);\n",
              "    }\n",
              "  }\n",
              "</style>\n",
              "\n",
              "  <script>\n",
              "    async function quickchart(key) {\n",
              "      const quickchartButtonEl =\n",
              "        document.querySelector('#' + key + ' button');\n",
              "      quickchartButtonEl.disabled = true;  // To prevent multiple clicks.\n",
              "      quickchartButtonEl.classList.add('colab-df-spinner');\n",
              "      try {\n",
              "        const charts = await google.colab.kernel.invokeFunction(\n",
              "            'suggestCharts', [key], {});\n",
              "      } catch (error) {\n",
              "        console.error('Error during call to suggestCharts:', error);\n",
              "      }\n",
              "      quickchartButtonEl.classList.remove('colab-df-spinner');\n",
              "      quickchartButtonEl.classList.add('colab-df-quickchart-complete');\n",
              "    }\n",
              "    (() => {\n",
              "      let quickchartButtonEl =\n",
              "        document.querySelector('#df-359215b4-a5d6-4e1d-b553-fe2b786f4d75 button');\n",
              "      quickchartButtonEl.style.display =\n",
              "        google.colab.kernel.accessAllowed ? 'block' : 'none';\n",
              "    })();\n",
              "  </script>\n",
              "</div>\n",
              "\n",
              "    </div>\n",
              "  </div>\n"
            ],
            "application/vnd.google.colaboratory.intrinsic+json": {
              "type": "dataframe",
              "variable_name": "Ravdess_features"
            }
          },
          "metadata": {},
          "execution_count": 9
        }
      ]
    },
    {
      "cell_type": "code",
      "source": [
        "from sklearn.preprocessing import OneHotEncoder\n",
        "\n",
        "# Assuming `Ravdess_features` DataFrame contains the emotions column and MFCC features\n",
        "ohe = OneHotEncoder()\n",
        "\n",
        "# Fit and transform the emotions in the Ravdess DataFrame\n",
        "y1 = ohe.fit_transform(Ravdess_features[['emotions']]).toarray()\n",
        "# For other transformations, you can just concatenate the same labels,\n",
        "# since they are the same for each transformation\n",
        "y2 = y1\n",
        "y3 = y1\n",
        "y4 = y1\n",
        "\n",
        "# Combine MFCC feature arrays into a single array\n",
        "mfcc_data = np.concatenate([origin, noise, pitch, stretch])\n",
        "\n",
        "# Concatenate the one-hot encoded labels\n",
        "y = np.concatenate([y1, y2, y3, y4])\n",
        "\n",
        "# Display the shape of the features and labels\n",
        "print(\"MFCC Data Shape:\", mfcc_data.shape)\n",
        "print(\"One-Hot Encoded Labels Shape:\", y.shape)"
      ],
      "metadata": {
        "colab": {
          "base_uri": "https://localhost:8080/"
        },
        "id": "-vMTASg07Zvm",
        "outputId": "00af62d9-85f3-4260-bbb9-7b5d88e07fdb"
      },
      "execution_count": 10,
      "outputs": [
        {
          "output_type": "stream",
          "name": "stdout",
          "text": [
            "MFCC Data Shape: (5808,)\n",
            "One-Hot Encoded Labels Shape: (5808, 8)\n"
          ]
        }
      ]
    },
    {
      "cell_type": "code",
      "source": [
        "X = [x for x in mfcc_data]\n",
        "X = np.array(X)\n",
        "X.shape"
      ],
      "metadata": {
        "colab": {
          "base_uri": "https://localhost:8080/"
        },
        "id": "IhbQMuxb7eTR",
        "outputId": "81a25ae9-4832-400c-c722-d5ae6df965bb"
      },
      "execution_count": 11,
      "outputs": [
        {
          "output_type": "execute_result",
          "data": {
            "text/plain": [
              "(5808, 40)"
            ]
          },
          "metadata": {},
          "execution_count": 11
        }
      ]
    },
    {
      "cell_type": "code",
      "source": [
        "# Define the list for the emotion labels\n",
        "y_label = []\n",
        "\n",
        "# Iterate through each one-hot encoded label in y\n",
        "for i in range(len(y)):\n",
        "    if y[i][0] == 1.0:\n",
        "        y_label.append('angry')\n",
        "    elif y[i][1] == 1.0:\n",
        "        y_label.append('disgust')\n",
        "    elif y[i][2] == 1.0:\n",
        "        y_label.append('fearful')\n",
        "    elif y[i][3] == 1.0:\n",
        "        y_label.append('happy')\n",
        "    elif y[i][4] == 1.0:\n",
        "        y_label.append('neutral')\n",
        "    elif y[i][5] == 1.0:\n",
        "        y_label.append('sad')\n",
        "    elif y[i][6] == 1.0:\n",
        "        y_label.append('surprised')\n",
        "\n",
        "# Convert the list of labels to a NumPy array\n",
        "y_trans = np.array(y_label)\n",
        "\n",
        "# Display the shape of the transformed labels\n",
        "print(\"Transformed Labels Shape:\", y_trans.shape)\n"
      ],
      "metadata": {
        "colab": {
          "base_uri": "https://localhost:8080/"
        },
        "id": "HhPsAqCv8Tta",
        "outputId": "8ed7e3b2-1bd7-4be4-8c0a-224f85628f2e"
      },
      "execution_count": 12,
      "outputs": [
        {
          "output_type": "stream",
          "name": "stdout",
          "text": [
            "Transformed Labels Shape: (5040,)\n"
          ]
        }
      ]
    },
    {
      "cell_type": "code",
      "source": [
        "# Assuming X was created from your audio features\n",
        "# And y_trans was generated as described previously\n",
        "\n",
        "# Check the minimum size for both\n",
        "min_samples = min(X.shape[0], y_trans.shape[0])\n",
        "\n",
        "# Slice both X and y_trans to match the minimum size\n",
        "X = X[:min_samples]\n",
        "y_trans = y_trans[:min_samples]\n",
        "\n",
        "# Now perform the train-test split\n",
        "X_train, X_test, y_train, y_test = train_test_split(X, y_trans, test_size=0.2, random_state=42)"
      ],
      "metadata": {
        "id": "T0AnfkA18Y0U"
      },
      "execution_count": 13,
      "outputs": []
    },
    {
      "cell_type": "code",
      "source": [
        "#Train model using SVM\n",
        "model_SVM = SVC (C=1.0,kernel='rbf',random_state=42)\n",
        "model_SVM.fit (X_train,y_train)\n",
        "\n",
        "y_pred = model_SVM.predict (X_test)\n",
        "\n",
        "print (classification_report(y_test,y_pred))"
      ],
      "metadata": {
        "colab": {
          "base_uri": "https://localhost:8080/"
        },
        "id": "7aLeuX4Y861-",
        "outputId": "91d902a0-bda2-4e52-bb6f-4078c3fc1f79"
      },
      "execution_count": 14,
      "outputs": [
        {
          "output_type": "stream",
          "name": "stdout",
          "text": [
            "              precision    recall  f1-score   support\n",
            "\n",
            "       angry       0.20      0.23      0.22       158\n",
            "     disgust       0.00      0.00      0.00       145\n",
            "     fearful       0.17      0.42      0.25       151\n",
            "       happy       0.15      0.45      0.23       155\n",
            "     neutral       0.00      0.00      0.00       160\n",
            "         sad       0.00      0.00      0.00        83\n",
            "   surprised       0.00      0.00      0.00       156\n",
            "\n",
            "    accuracy                           0.17      1008\n",
            "   macro avg       0.08      0.16      0.10      1008\n",
            "weighted avg       0.08      0.17      0.11      1008\n",
            "\n"
          ]
        },
        {
          "output_type": "stream",
          "name": "stderr",
          "text": [
            "/usr/local/lib/python3.10/dist-packages/sklearn/metrics/_classification.py:1531: UndefinedMetricWarning: Precision is ill-defined and being set to 0.0 in labels with no predicted samples. Use `zero_division` parameter to control this behavior.\n",
            "  _warn_prf(average, modifier, f\"{metric.capitalize()} is\", len(result))\n",
            "/usr/local/lib/python3.10/dist-packages/sklearn/metrics/_classification.py:1531: UndefinedMetricWarning: Precision is ill-defined and being set to 0.0 in labels with no predicted samples. Use `zero_division` parameter to control this behavior.\n",
            "  _warn_prf(average, modifier, f\"{metric.capitalize()} is\", len(result))\n",
            "/usr/local/lib/python3.10/dist-packages/sklearn/metrics/_classification.py:1531: UndefinedMetricWarning: Precision is ill-defined and being set to 0.0 in labels with no predicted samples. Use `zero_division` parameter to control this behavior.\n",
            "  _warn_prf(average, modifier, f\"{metric.capitalize()} is\", len(result))\n"
          ]
        }
      ]
    },
    {
      "cell_type": "markdown",
      "source": [
        "### Add cross-validation\n"
      ],
      "metadata": {
        "id": "TslEaqCh-Es0"
      }
    },
    {
      "cell_type": "code",
      "source": [
        "pip install --upgrade librosa\n"
      ],
      "metadata": {
        "collapsed": true,
        "colab": {
          "base_uri": "https://localhost:8080/"
        },
        "id": "I811DXS9AsK5",
        "outputId": "af6681f9-a5d1-4986-bfa5-7160016f9a56"
      },
      "execution_count": 15,
      "outputs": [
        {
          "output_type": "stream",
          "name": "stdout",
          "text": [
            "Requirement already satisfied: librosa in /usr/local/lib/python3.10/dist-packages (0.10.2.post1)\n",
            "Requirement already satisfied: audioread>=2.1.9 in /usr/local/lib/python3.10/dist-packages (from librosa) (3.0.1)\n",
            "Requirement already satisfied: numpy!=1.22.0,!=1.22.1,!=1.22.2,>=1.20.3 in /usr/local/lib/python3.10/dist-packages (from librosa) (1.26.4)\n",
            "Requirement already satisfied: scipy>=1.2.0 in /usr/local/lib/python3.10/dist-packages (from librosa) (1.13.1)\n",
            "Requirement already satisfied: scikit-learn>=0.20.0 in /usr/local/lib/python3.10/dist-packages (from librosa) (1.5.2)\n",
            "Requirement already satisfied: joblib>=0.14 in /usr/local/lib/python3.10/dist-packages (from librosa) (1.4.2)\n",
            "Requirement already satisfied: decorator>=4.3.0 in /usr/local/lib/python3.10/dist-packages (from librosa) (4.4.2)\n",
            "Requirement already satisfied: numba>=0.51.0 in /usr/local/lib/python3.10/dist-packages (from librosa) (0.60.0)\n",
            "Requirement already satisfied: soundfile>=0.12.1 in /usr/local/lib/python3.10/dist-packages (from librosa) (0.12.1)\n",
            "Requirement already satisfied: pooch>=1.1 in /usr/local/lib/python3.10/dist-packages (from librosa) (1.8.2)\n",
            "Requirement already satisfied: soxr>=0.3.2 in /usr/local/lib/python3.10/dist-packages (from librosa) (0.5.0.post1)\n",
            "Requirement already satisfied: typing-extensions>=4.1.1 in /usr/local/lib/python3.10/dist-packages (from librosa) (4.12.2)\n",
            "Requirement already satisfied: lazy-loader>=0.1 in /usr/local/lib/python3.10/dist-packages (from librosa) (0.4)\n",
            "Requirement already satisfied: msgpack>=1.0 in /usr/local/lib/python3.10/dist-packages (from librosa) (1.1.0)\n",
            "Requirement already satisfied: packaging in /usr/local/lib/python3.10/dist-packages (from lazy-loader>=0.1->librosa) (24.1)\n",
            "Requirement already satisfied: llvmlite<0.44,>=0.43.0dev0 in /usr/local/lib/python3.10/dist-packages (from numba>=0.51.0->librosa) (0.43.0)\n",
            "Requirement already satisfied: platformdirs>=2.5.0 in /usr/local/lib/python3.10/dist-packages (from pooch>=1.1->librosa) (4.3.6)\n",
            "Requirement already satisfied: requests>=2.19.0 in /usr/local/lib/python3.10/dist-packages (from pooch>=1.1->librosa) (2.32.3)\n",
            "Requirement already satisfied: threadpoolctl>=3.1.0 in /usr/local/lib/python3.10/dist-packages (from scikit-learn>=0.20.0->librosa) (3.5.0)\n",
            "Requirement already satisfied: cffi>=1.0 in /usr/local/lib/python3.10/dist-packages (from soundfile>=0.12.1->librosa) (1.17.1)\n",
            "Requirement already satisfied: pycparser in /usr/local/lib/python3.10/dist-packages (from cffi>=1.0->soundfile>=0.12.1->librosa) (2.22)\n",
            "Requirement already satisfied: charset-normalizer<4,>=2 in /usr/local/lib/python3.10/dist-packages (from requests>=2.19.0->pooch>=1.1->librosa) (3.4.0)\n",
            "Requirement already satisfied: idna<4,>=2.5 in /usr/local/lib/python3.10/dist-packages (from requests>=2.19.0->pooch>=1.1->librosa) (3.10)\n",
            "Requirement already satisfied: urllib3<3,>=1.21.1 in /usr/local/lib/python3.10/dist-packages (from requests>=2.19.0->pooch>=1.1->librosa) (2.2.3)\n",
            "Requirement already satisfied: certifi>=2017.4.17 in /usr/local/lib/python3.10/dist-packages (from requests>=2.19.0->pooch>=1.1->librosa) (2024.8.30)\n"
          ]
        }
      ]
    },
    {
      "cell_type": "code",
      "source": [
        "from sklearn.model_selection import cross_val_score, StratifiedKFold\n",
        "from sklearn.svm import SVC\n",
        "from sklearn.metrics import make_scorer, accuracy_score\n",
        "\n",
        "# Define your SVM model (adjust hyperparameters if needed)\n",
        "model = SVC(kernel='linear', class_weight='balanced')\n",
        "\n",
        "# Use Stratified K-Folds cross-validator\n",
        "# Stratified ensures each fold has a similar class distribution\n",
        "cv = StratifiedKFold(n_splits=5)\n",
        "\n",
        "# Choose the scoring metric; accuracy is just one option (you can also use F1, precision, etc.)\n",
        "scoring = make_scorer(accuracy_score)\n",
        "\n",
        "# Perform cross-validation\n",
        "scores = cross_val_score(model, X_train, y_train, cv=cv, scoring=scoring)\n",
        "\n",
        "# Print the accuracy for each fold and the mean accuracy\n",
        "print(f'Cross-validation scores: {scores}')\n",
        "print(f'Mean accuracy: {scores.mean()}')\n",
        "\n",
        "# Fit the model after cross-validation if you want to proceed with further testing\n",
        "model.fit(X_train, y_train)\n",
        "\n",
        "# Evaluate on the test set\n",
        "y_pred = model.predict(X_test)\n",
        "\n",
        "# Now calculate the performance metrics on the test set\n",
        "from sklearn.metrics import classification_report\n",
        "\n",
        "print(classification_report(y_test, y_pred))\n"
      ],
      "metadata": {
        "colab": {
          "base_uri": "https://localhost:8080/"
        },
        "id": "luF8K2BO-Ecb",
        "outputId": "78d7fdc9-a91f-44df-cca9-5a3e411a1f71"
      },
      "execution_count": 16,
      "outputs": [
        {
          "output_type": "stream",
          "name": "stdout",
          "text": [
            "Cross-validation scores: [0.1511772  0.12143742 0.1191067  0.14019851 0.13523573]\n",
            "Mean accuracy: 0.1334311129970082\n",
            "              precision    recall  f1-score   support\n",
            "\n",
            "       angry       0.14      0.15      0.14       158\n",
            "     disgust       0.11      0.08      0.09       145\n",
            "     fearful       0.20      0.17      0.18       151\n",
            "       happy       0.13      0.12      0.12       155\n",
            "     neutral       0.20      0.11      0.14       160\n",
            "         sad       0.08      0.19      0.11        83\n",
            "   surprised       0.19      0.20      0.19       156\n",
            "\n",
            "    accuracy                           0.14      1008\n",
            "   macro avg       0.15      0.14      0.14      1008\n",
            "weighted avg       0.15      0.14      0.14      1008\n",
            "\n"
          ]
        }
      ]
    },
    {
      "cell_type": "code",
      "execution_count": null,
      "metadata": {
        "id": "Le8GisGQn5cX"
      },
      "outputs": [],
      "source": [
        "# In Colab, train and save the SVM model\n",
        "from sklearn.svm import SVC\n",
        "import joblib\n",
        "\n",
        "# Assume X_train and y_train contain your training data\n",
        "svm_model = SVC(kernel='linear')\n",
        "svm_model.fit(X_train, y_train)\n",
        "\n",
        "# Save the model\n",
        "joblib.dump(svm_model, 'svm_model.pkl')\n"
      ]
    }
  ]
}